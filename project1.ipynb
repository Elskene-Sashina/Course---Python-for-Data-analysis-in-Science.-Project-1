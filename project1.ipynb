{
 "cells": [
  {
   "cell_type": "code",
   "execution_count": 8,
   "id": "4c0e30b6-64ef-4a0b-915e-62dad79a2de2",
   "metadata": {},
   "outputs": [
    {
     "ename": "NameError",
     "evalue": "name 'DNAs' is not defined",
     "output_type": "error",
     "traceback": [
      "\u001b[1;31m---------------------------------------------------------------------------\u001b[0m",
      "\u001b[1;31mNameError\u001b[0m                                 Traceback (most recent call last)",
      "Cell \u001b[1;32mIn[8], line 67\u001b[0m\n\u001b[0;32m     63\u001b[0m     translation(RNAs)\n\u001b[0;32m     64\u001b[0m     save_proteins_to_file(results, file)\n\u001b[1;32m---> 67\u001b[0m resulting_function(\u001b[38;5;124m'\u001b[39m\u001b[38;5;124msry.fasta\u001b[39m\u001b[38;5;124m'\u001b[39m)\n",
      "Cell \u001b[1;32mIn[8], line 62\u001b[0m, in \u001b[0;36mresulting_function\u001b[1;34m(file)\u001b[0m\n\u001b[0;32m     60\u001b[0m \u001b[38;5;28;01mdef\u001b[39;00m \u001b[38;5;21mresulting_function\u001b[39m(file):\n\u001b[0;32m     61\u001b[0m     open_file(file)\n\u001b[1;32m---> 62\u001b[0m     transcription(DNAs)\n\u001b[0;32m     63\u001b[0m     translation(RNAs)\n\u001b[0;32m     64\u001b[0m     save_proteins_to_file(results, file)\n",
      "\u001b[1;31mNameError\u001b[0m: name 'DNAs' is not defined"
     ]
    }
   ],
   "source": [
    "#IMPORT MODULE\n",
    "from Bio import SeqIO\n",
    "\n",
    "#OPEN FILE - FIND DNA \n",
    "def open_file( file ):\n",
    "    DNAs = []\n",
    "    with open(file) as file:\n",
    "        reads = SeqIO.parse(file, format = \"fasta\")\n",
    "        for read in reads:\n",
    "          DNAs.append(str(read.seq))\n",
    "    return DNAs\n",
    "\n",
    "#TRANSCRIPTION DNA-RNA\n",
    "def transcription(DNAs):\n",
    "    RNAs = []\n",
    "    for DNA in DNAs:\n",
    "        RNA = DNA.replace('T', 'U')\n",
    "        RNAs.append(RNA)\n",
    "    return RNAs\n",
    "\n",
    "#TRANSLATION RNA-PROTEIN\n",
    "rna_codon_table = {\n",
    "  'UUU': 'F', 'UUC': 'F', 'UUA': 'L', 'UUG': 'L',\n",
    "  'UCU': 'S', 'UCC': 'S', 'UCA': 'S', 'UCG': 'S',\n",
    "  'UAU': 'Y', 'UAC': 'Y', 'UAA': '*', 'UAG': '*',\n",
    "  'UGU': 'C', 'UGC': 'C', 'UGA': '*', 'UGG': 'W',\n",
    "  'CUU': 'L', 'CUC': 'L', 'CUA': 'L', 'CUG': 'L',\n",
    "  'CCU': 'P', 'CCC': 'P', 'CCA': 'P', 'CCG': 'P',\n",
    "  'CAU': 'H', 'CAC': 'H', 'CAA': 'Q', 'CAG': 'Q',\n",
    "  'CGU': 'R', 'CGC': 'R', 'CGA': 'R', 'CGG': 'R',\n",
    "  'AUU': 'I', 'AUC': 'I', 'AUA': 'I', 'AUG': 'M',\n",
    "  'ACU': 'T', 'ACC': 'T', 'ACA': 'T', 'ACG': 'T',\n",
    "  'AAU': 'N', 'AAC': 'N', 'AAA': 'K', 'AAG': 'K',\n",
    "  'AGU': 'S', 'AGC': 'S', 'AGA': 'R', 'AGG': 'R',\n",
    "  'GUU': 'V', 'GUC': 'V', 'GUA': 'V', 'GUG': 'V',\n",
    "  'GCU': 'A', 'GCC': 'A', 'GCA': 'A', 'GCG': 'A',\n",
    "  'GAU': 'D', 'GAC': 'D', 'GAA': 'E', 'GAG': 'E',\n",
    "  'GGU': 'G', 'GGC': 'G', 'GGA': 'G', 'GGG': 'G',\n",
    "  }\n",
    "\n",
    "def translation(RNAs):\n",
    "  for RNA in RNAs:\n",
    "    results = ''\n",
    "    index = 0\n",
    "    if RNA[index:index + 3] in RNA_codon_table:\n",
    "        results = results + RNA_codon_table.get(RNA[index:index + 3])\n",
    "        index = index + 3\n",
    "  return results\n",
    "\n",
    "\n",
    "#SAVE RESULT\n",
    "def save_proteins_to_file(results, file):\n",
    "  with open(file, 'w') as file:\n",
    "      for result in results:\n",
    "          file.write(result + '\\n')\n",
    "\n",
    "\n",
    "#MAKE IT WORK\n",
    "def resulting_function(file):\n",
    "    open_file(file)\n",
    "    transcription(DNAs)\n",
    "    translation(RNAs)\n",
    "    save_proteins_to_file(results, file)\n",
    "\n",
    "#TRY\n",
    "resulting_function('sry.fasta')"
   ]
  },
  {
   "cell_type": "code",
   "execution_count": null,
   "id": "80fbff82-2ba3-4125-a0e6-c88f53308380",
   "metadata": {},
   "outputs": [],
   "source": []
  }
 ],
 "metadata": {
  "kernelspec": {
   "display_name": "Python 3 (ipykernel)",
   "language": "python",
   "name": "python3"
  },
  "language_info": {
   "codemirror_mode": {
    "name": "ipython",
    "version": 3
   },
   "file_extension": ".py",
   "mimetype": "text/x-python",
   "name": "python",
   "nbconvert_exporter": "python",
   "pygments_lexer": "ipython3",
   "version": "3.11.7"
  }
 },
 "nbformat": 4,
 "nbformat_minor": 5
}
